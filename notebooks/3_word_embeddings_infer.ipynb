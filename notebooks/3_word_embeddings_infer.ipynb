{
 "cells": [
  {
   "cell_type": "markdown",
   "id": "5a332295",
   "metadata": {},
   "source": [
    "### Setup\n",
    "#### Imports"
   ]
  },
  {
   "cell_type": "code",
   "execution_count": 1,
   "id": "2f528165",
   "metadata": {},
   "outputs": [],
   "source": [
    "from collections import defaultdict\n",
    "from gensim.models import FastText\n",
    "from gensim.utils import simple_preprocess\n",
    "import json\n",
    "import numpy as np\n",
    "from numpy.linalg import norm\n",
    "import os\n",
    "import pandas as pd\n",
    "import re\n",
    "import sys\n",
    "from sklearn.manifold import TSNE\n",
    "from tqdm import tqdm\n",
    "\n",
    "# this is needed, cause notebooks not on same level as helpers\n",
    "sys.path.insert(0, os.path.abspath(\"..\"))  # assumes notebook is in {root}/notebooks/{fname}.ipynb\n",
    "\n",
    "# autoreload imports within same session when rerunning cell\n",
    "%load_ext autoreload\n",
    "\n",
    "%autoreload 2\n",
    "from helpers.data_fetchers import fetch_sl_stopwords\n",
    "from helpers.nlp import read_corpus, \\\n",
    "        get_similar_words_fasttext, \\\n",
    "        get_topn_neighbors, jaccard, \\\n",
    "        generate_seed_words_from_stem, \\\n",
    "        fasttext_incr_train_and_predict, \\\n",
    "        compute_epochwise_jaccard_similarity"
   ]
  },
  {
   "cell_type": "markdown",
   "id": "01d4081b",
   "metadata": {},
   "source": [
    "#### Constants"
   ]
  },
  {
   "cell_type": "code",
   "execution_count": 2,
   "id": "5d7eb1d5",
   "metadata": {},
   "outputs": [],
   "source": [
    "# CONSTANTS\n",
    "VECTORIZED_CORPUS_PATH = \"../output/paragraph_ft_vectors.json\"\n",
    "VECTORIZED_SHAME_WORDS_PATH = \"../output/shame_ft_vectors.json\"\n",
    "ORIG_CORPUS_DIR = \"../data/original_txt_corpus/paragraph\"\n",
    "ANNOTATED_CORPUS_PATH = \"../annotations/ft_cos_sim_ann.json\"\n",
    "FT_MODEL_PATH = \"../models/ft_word_embeddings/ft_300ep_original_txt_paragraph_remove_stopwords.model\"\n",
    "STOPWORDS_PATH = '../data/stopwords_sl.txt'"
   ]
  },
  {
   "cell_type": "markdown",
   "id": "95c0a688",
   "metadata": {},
   "source": [
    "#### Precomputed vars"
   ]
  },
  {
   "cell_type": "code",
   "execution_count": 3,
   "id": "a37084e2",
   "metadata": {},
   "outputs": [],
   "source": [
    "# Load stopwords\n",
    "stopwords = fetch_sl_stopwords(STOPWORDS_PATH)\n",
    "\n",
    "# Load FastText model\n",
    "ft_model = FastText.load(FT_MODEL_PATH)"
   ]
  },
  {
   "cell_type": "markdown",
   "id": "88e9fe8c",
   "metadata": {},
   "source": [
    "#### Helpers"
   ]
  },
  {
   "cell_type": "code",
   "execution_count": 4,
   "id": "6550a28f",
   "metadata": {},
   "outputs": [],
   "source": [
    "def paragraph_to_vector(paragraph, model, stopwords):\n",
    "    tokens = [w for w in simple_preprocess(paragraph, deacc=True) if w not in stopwords]\n",
    "    vectors = [model.wv[w] for w in tokens if w in model.wv]\n",
    "    if vectors:\n",
    "        return np.mean(vectors, axis=0).tolist()\n",
    "    else:\n",
    "        return np.zeros(model.vector_size).tolist()\n",
    "\n",
    "def cosine_sim(a, b):\n",
    "    a = np.array(a)\n",
    "    b = np.array(b)\n",
    "    if norm(a) == 0 or norm(b) == 0:\n",
    "        return 0.0\n",
    "    return float(np.dot(a, b) / (norm(a) * norm(b)))\n",
    "\n",
    "\n",
    "def vectorize_words(seed_words, model):\n",
    "    vectors = [model.wv[w] for w in seed_words if w in model.wv]\n",
    "    if not vectors:\n",
    "        raise ValueError(\"None of the seed_words are in vocabulary!\")\n",
    "    return np.mean(vectors, axis=0).tolist()"
   ]
  },
  {
   "cell_type": "markdown",
   "id": "dddd5363",
   "metadata": {},
   "source": [
    "### Step 1: Vectorize all novels with the FastText model we trained before\n",
    "Check the notebook word_embeddings_train.ipynb"
   ]
  },
  {
   "cell_type": "code",
   "execution_count": 5,
   "id": "fef894fb",
   "metadata": {},
   "outputs": [
    {
     "name": "stderr",
     "output_type": "stream",
     "text": [
      "Files: 100%|██████████| 326/326 [00:48<00:00,  6.77it/s]\n"
     ]
    }
   ],
   "source": [
    "\n",
    "all_paragraphs = []\n",
    "corpus_dir = ORIG_CORPUS_DIR\n",
    "file_list = sorted(os.listdir(corpus_dir))\n",
    "vector_path = VECTORIZED_CORPUS_PATH\n",
    "\n",
    "for fname in tqdm(file_list, desc=\"Files\"):\n",
    "    doc_id = os.path.splitext(fname)[0]\n",
    "    # First, count number of paragraphs for progress bar\n",
    "    with open(os.path.join(corpus_dir, fname), \"r\", encoding=\"utf-8\") as f:\n",
    "        lines = f.readlines()\n",
    "    for i, line in enumerate(tqdm(lines, desc=f\"Paragraphs in {fname}\", leave=False)):\n",
    "        line = line.strip()\n",
    "        vector = paragraph_to_vector(line, ft_model, stopwords)\n",
    "        entry = {\n",
    "            \"doc_id\": doc_id,\n",
    "            \"paragraph_id\": i,\n",
    "            \"text\": line,\n",
    "            \"vector\": vector\n",
    "        }\n",
    "        all_paragraphs.append(entry)\n",
    "\n",
    "# Save as JSON\n",
    "os.makedirs(os.path.dirname(vector_path), exist_ok=True)\n",
    "with open(vector_path, \"w\", encoding=\"utf-8\") as f:\n",
    "    json.dump(all_paragraphs, f, ensure_ascii=False, indent=2)"
   ]
  },
  {
   "cell_type": "markdown",
   "id": "99f310cc",
   "metadata": {},
   "source": [
    "### Step 2: Compute Similarity to Shame Vector(s)"
   ]
  },
  {
   "cell_type": "markdown",
   "id": "c298bc9e",
   "metadata": {},
   "source": [
    "##### Compute shame vectors"
   ]
  },
  {
   "cell_type": "code",
   "execution_count": 6,
   "id": "89f6b54c",
   "metadata": {},
   "outputs": [],
   "source": [
    "# create a couple of vectors to start with\n",
    "with open('../output/seed_words.txt', 'r') as f:\n",
    "    stem_words = f.readlines()\n",
    "\n",
    "stem_words = [x.replace(',', '').strip() for x in stem_words]\n",
    "babel_words = ['sram', 'skesan', 'osramočen', 'ponižan', 'kazniv']\n",
    "kontekstio_words = ['strah', 'groza', 'motilo', 'nerodno', 'bolelo', 'zaskrbelo']\n",
    "\n",
    "shame_vectors = {\n",
    "    \"stem_sram\": vectorize_words(stem_words, ft_model),\n",
    "    \"babel_words\": vectorize_words(babel_words, ft_model),\n",
    "    \"kontekstio_words\": vectorize_words(kontekstio_words, ft_model),\n",
    "}\n",
    "\n",
    "# Save for use in similarity computation\n",
    "os.makedirs(os.path.dirname(VECTORIZED_SHAME_WORDS_PATH), exist_ok=True)\n",
    "with open(VECTORIZED_SHAME_WORDS_PATH, \"w\", encoding=\"utf-8\") as f:\n",
    "    json.dump(shame_vectors, f, ensure_ascii=False, indent=2)"
   ]
  },
  {
   "cell_type": "markdown",
   "id": "3ed95e54",
   "metadata": {},
   "source": [
    "#### Annotate corpus"
   ]
  },
  {
   "cell_type": "code",
   "execution_count": 7,
   "id": "27dd06ca",
   "metadata": {},
   "outputs": [
    {
     "name": "stderr",
     "output_type": "stream",
     "text": [
      "Annotating paragraphs: 100%|██████████| 343653/343653 [00:22<00:00, 15565.34it/s]\n"
     ]
    }
   ],
   "source": [
    "# Load paragraph vectors\n",
    "with open(VECTORIZED_CORPUS_PATH, \"r\", encoding=\"utf-8\") as f:\n",
    "    paragraphs = json.load(f)\n",
    "\n",
    "# Load shame vectors (can be multiple)\n",
    "with open(VECTORIZED_SHAME_WORDS_PATH, \"r\", encoding=\"utf-8\") as f:\n",
    "    shame_vectors = json.load(f)  # dict: name -> vector\n",
    "\n",
    "\n",
    "\n",
    "results = []\n",
    "\n",
    "for para in tqdm(paragraphs, desc=\"Annotating paragraphs\"):\n",
    "    entry = {\n",
    "        \"doc_id\": para[\"doc_id\"],\n",
    "        \"paragraph_id\": para[\"paragraph_id\"],\n",
    "        \"text\": para[\"text\"]\n",
    "    }\n",
    "    for vec_name, shame_vec in shame_vectors.items():\n",
    "        sim = cosine_sim(para[\"vector\"], shame_vec)\n",
    "        entry[f\"cos_sim_{vec_name}\"] = sim\n",
    "    results.append(entry)\n",
    "\n",
    "# Save annotation results\n",
    "os.makedirs(os.path.dirname(ANNOTATED_CORPUS_PATH), exist_ok=True)\n",
    "with open(ANNOTATED_CORPUS_PATH, \"w\", encoding=\"utf-8\") as f:\n",
    "    json.dump(results, f, ensure_ascii=False, indent=2)"
   ]
  },
  {
   "cell_type": "markdown",
   "id": "67be532e",
   "metadata": {},
   "source": [
    "### Step 3: Convert to main annotation (nested and enriched)"
   ]
  },
  {
   "cell_type": "code",
   "execution_count": 8,
   "id": "36524e64",
   "metadata": {},
   "outputs": [],
   "source": [
    "df = pd.read_csv('../corpus_metadata.csv')\n",
    "meta_lookup = df.set_index(\"shame_id\")[[\"author\", \"title\"]].to_dict(orient=\"index\")\n",
    "\n",
    "results = defaultdict(lambda: {\"author\": None, \"title\": None, \"paragraphs\": {}})\n",
    "\n",
    "\n",
    "for para in paragraphs:\n",
    "    doc_id = para[\"doc_id\"]\n",
    "    paragraph_id = para[\"paragraph_id\"]\n",
    "    text = para[\"text\"]\n",
    "    \n",
    "    # Set author/title from meta_lookup if not already\n",
    "    if results[doc_id][\"author\"] is None:\n",
    "        meta = meta_lookup.get(doc_id, {})\n",
    "        results[doc_id][\"author\"] = meta.get(\"author\", \"\")\n",
    "        results[doc_id][\"title\"] = meta.get(\"title\", \"\")\n",
    "    \n",
    "    # Build paragraph annotation\n",
    "    para_entry = {\"text\": text}\n",
    "    for vec_name, shame_vec in shame_vectors.items():\n",
    "        sim = cosine_sim(para[\"vector\"], shame_vec)\n",
    "        para_entry[f\"cos_sim_{vec_name}\"] = sim\n",
    "\n",
    "    # Store by paragraph id\n",
    "    results[doc_id][\"paragraphs\"][paragraph_id] = para_entry\n",
    "\n",
    "with open(\"../annotations/main_shame_annotations.json\", \"w\", encoding=\"utf-8\") as f:\n",
    "    json.dump(results, f, ensure_ascii=False, indent=2)"
   ]
  }
 ],
 "metadata": {
  "kernelspec": {
   "display_name": "3.11.9",
   "language": "python",
   "name": "python3"
  },
  "language_info": {
   "codemirror_mode": {
    "name": "ipython",
    "version": 3
   },
   "file_extension": ".py",
   "mimetype": "text/x-python",
   "name": "python",
   "nbconvert_exporter": "python",
   "pygments_lexer": "ipython3",
   "version": "3.11.9"
  }
 },
 "nbformat": 4,
 "nbformat_minor": 5
}
