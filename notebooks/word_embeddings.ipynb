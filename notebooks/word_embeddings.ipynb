{
 "cells": [
  {
   "cell_type": "markdown",
   "id": "07df2032",
   "metadata": {},
   "source": [
    "## Setup"
   ]
  },
  {
   "cell_type": "code",
   "execution_count": 1,
   "id": "ca247da6-4b6c-4dc6-887d-ec236ecba442",
   "metadata": {},
   "outputs": [],
   "source": [
    "from collections import defaultdict, Counter\n",
    "from dotenv import load_dotenv\n",
    "from gensim.models import FastText\n",
    "from gensim.utils import simple_preprocess\n",
    "import json\n",
    "import matplotlib.pyplot as plt\n",
    "import multiprocessing\n",
    "import numpy as np\n",
    "import os\n",
    "import pandas as pd\n",
    "from pathlib import Path\n",
    "import sys\n",
    "from sklearn.manifold import TSNE\n",
    "from tqdm import tqdm"
   ]
  },
  {
   "cell_type": "code",
   "execution_count": 2,
   "id": "39307d43",
   "metadata": {},
   "outputs": [],
   "source": [
    "# this is needed, cause notebooks not on same level as helpers\n",
    "sys.path.insert(0, os.path.abspath(\"..\"))  # assumes notebook is in {root}/notebooks/{fname}.ipynb\n",
    "\n",
    "# autoreload imports within same session when rerunning cell\n",
    "%load_ext autoreload\n",
    "\n",
    "%autoreload 2\n",
    "from helpers.data_fetchers import fetch_sl_stopwords\n",
    "from helpers.nlp import read_corpus, \\\n",
    "        get_similar_words_fasttext, \\\n",
    "        get_topn_neighbors, jaccard, \\\n",
    "        generate_seed_words_from_stem, \\\n",
    "        fasttext_incr_train_and_predict, \\\n",
    "        compute_epochwise_jaccard_similarity"
   ]
  },
  {
   "cell_type": "markdown",
   "id": "178124b6-29fc-4011-a7ee-7a4b788f5dec",
   "metadata": {},
   "source": [
    "## Constants"
   ]
  },
  {
   "cell_type": "code",
   "execution_count": 5,
   "id": "8217d38d-8fa9-47bf-bf52-41d48a4236e9",
   "metadata": {},
   "outputs": [],
   "source": [
    "load_dotenv()\n",
    "\n",
    "CORPUS_INDEX_ID = os.getenv(\"CORPUS_INDEX_ID\")\n",
    "CORPUS_INDEX_SHEET = os.getenv(\"CORPUS_INDEX_SHEET\")\n",
    "ORIG_CORPUS_DIR = os.getenv(\"ORIG_CORPUS_DIR\")\n",
    "LEMMA_CORPUS_DIR = os.getenv(\"LEMMATIZED_CORPUS_DIR\")\n",
    "NUM_CPUS = multiprocessing.cpu_count()\n",
    "\n",
    "# correct constants for calling within notebook\n",
    "MAIN_ORIGINAL = '../' + ORIG_CORPUS_DIR + 'sentence'\n",
    "MAIN_LEMMA = '../' + LEMMA_CORPUS_DIR + 'sentence'\n",
    "PAR_ORG = '../' + ORIG_CORPUS_DIR + 'paragraph'\n",
    "PAR_LEM = '../' + LEMMA_CORPUS_DIR + 'paragraph'"
   ]
  },
  {
   "cell_type": "markdown",
   "id": "9d4335f8-52af-4ca3-9b44-8603748d2e76",
   "metadata": {},
   "source": [
    "## Data prep"
   ]
  },
  {
   "cell_type": "code",
   "execution_count": 4,
   "id": "ab685499-531c-4bde-b62a-c0687efbd78f",
   "metadata": {},
   "outputs": [
    {
     "data": {
      "text/html": [
       "<div>\n",
       "<style scoped>\n",
       "    .dataframe tbody tr th:only-of-type {\n",
       "        vertical-align: middle;\n",
       "    }\n",
       "\n",
       "    .dataframe tbody tr th {\n",
       "        vertical-align: top;\n",
       "    }\n",
       "\n",
       "    .dataframe thead th {\n",
       "        text-align: right;\n",
       "    }\n",
       "</style>\n",
       "<table border=\"1\" class=\"dataframe\">\n",
       "  <thead>\n",
       "    <tr style=\"text-align: right;\">\n",
       "      <th></th>\n",
       "      <th>shame_id</th>\n",
       "      <th>author_and_title</th>\n",
       "      <th>original_id</th>\n",
       "      <th>author</th>\n",
       "      <th>author_fname</th>\n",
       "      <th>author_lname</th>\n",
       "      <th>author_gender</th>\n",
       "      <th>title</th>\n",
       "      <th>word_count</th>\n",
       "      <th>publ_year</th>\n",
       "      <th>publ_year_clean</th>\n",
       "      <th>doc_link</th>\n",
       "      <th>source_corpus</th>\n",
       "      <th>comment</th>\n",
       "    </tr>\n",
       "  </thead>\n",
       "  <tbody>\n",
       "    <tr>\n",
       "      <th>0</th>\n",
       "      <td>SHAME_1</td>\n",
       "      <td>Albin Prepeluh-Mina</td>\n",
       "      <td>KDSP199</td>\n",
       "      <td>Albin Prepeluh</td>\n",
       "      <td>Albin</td>\n",
       "      <td>Prepeluh</td>\n",
       "      <td>M</td>\n",
       "      <td>Mina</td>\n",
       "      <td>33063</td>\n",
       "      <td>1910.0</td>\n",
       "      <td>1910.0</td>\n",
       "      <td>https://github.com/COST-ELTeC/ELTeC-slv/blob/v...</td>\n",
       "      <td>KDSP</td>\n",
       "      <td>NaN</td>\n",
       "    </tr>\n",
       "    <tr>\n",
       "      <th>1</th>\n",
       "      <td>SHAME_2</td>\n",
       "      <td>Alojz Kraigher-Kontrolor Škrobar</td>\n",
       "      <td>KDSP234</td>\n",
       "      <td>Alojz Kraigher</td>\n",
       "      <td>Alojz</td>\n",
       "      <td>Kraigher</td>\n",
       "      <td>M</td>\n",
       "      <td>Kontrolor Škrobar</td>\n",
       "      <td>130090</td>\n",
       "      <td>1914.0</td>\n",
       "      <td>1914.0</td>\n",
       "      <td>https://www.dlib.si/details/URN:NBN:SI:DOC-KCB...</td>\n",
       "      <td>KDSP</td>\n",
       "      <td>NaN</td>\n",
       "    </tr>\n",
       "    <tr>\n",
       "      <th>2</th>\n",
       "      <td>SHAME_3</td>\n",
       "      <td>Alojz Kraigher-Mlada ljubezen</td>\n",
       "      <td>KDSP254</td>\n",
       "      <td>Alojz Kraigher</td>\n",
       "      <td>Alojz</td>\n",
       "      <td>Kraigher</td>\n",
       "      <td>M</td>\n",
       "      <td>Mlada ljubezen</td>\n",
       "      <td>75260</td>\n",
       "      <td>1917.0</td>\n",
       "      <td>1917.0</td>\n",
       "      <td>https://github.com/COST-ELTeC/ELTeC-slv/blob/v...</td>\n",
       "      <td>KDSP</td>\n",
       "      <td>NaN</td>\n",
       "    </tr>\n",
       "    <tr>\n",
       "      <th>3</th>\n",
       "      <td>SHAME_4</td>\n",
       "      <td>Alojz Kraigher-Peter Drozeg</td>\n",
       "      <td>NaN</td>\n",
       "      <td>Alojz Kraigher</td>\n",
       "      <td>Alojz</td>\n",
       "      <td>Kraigher</td>\n",
       "      <td>M</td>\n",
       "      <td>Peter Drozeg</td>\n",
       "      <td>20324</td>\n",
       "      <td>1916.0</td>\n",
       "      <td>1916.0</td>\n",
       "      <td>https://lit.ijs.si/kraigher.html</td>\n",
       "      <td>Wikivir - leposlovje</td>\n",
       "      <td>NaN</td>\n",
       "    </tr>\n",
       "    <tr>\n",
       "      <th>4</th>\n",
       "      <td>SHAME_5</td>\n",
       "      <td>Alojzij Kokalj-Cerkvene miši</td>\n",
       "      <td>KDSP227</td>\n",
       "      <td>Alojzij Kokalj</td>\n",
       "      <td>Alojzij</td>\n",
       "      <td>Kokalj</td>\n",
       "      <td>M</td>\n",
       "      <td>Cerkvene miši</td>\n",
       "      <td>86058</td>\n",
       "      <td>1913.0</td>\n",
       "      <td>1913.0</td>\n",
       "      <td>https://sl.wikisource.org/wiki/Cerkvene_mi%C5%A1i</td>\n",
       "      <td>KDSP</td>\n",
       "      <td>NaN</td>\n",
       "    </tr>\n",
       "  </tbody>\n",
       "</table>\n",
       "</div>"
      ],
      "text/plain": [
       "  shame_id                  author_and_title original_id          author  \\\n",
       "0  SHAME_1               Albin Prepeluh-Mina     KDSP199  Albin Prepeluh   \n",
       "1  SHAME_2  Alojz Kraigher-Kontrolor Škrobar     KDSP234  Alojz Kraigher   \n",
       "2  SHAME_3     Alojz Kraigher-Mlada ljubezen     KDSP254  Alojz Kraigher   \n",
       "3  SHAME_4       Alojz Kraigher-Peter Drozeg         NaN  Alojz Kraigher   \n",
       "4  SHAME_5      Alojzij Kokalj-Cerkvene miši     KDSP227  Alojzij Kokalj   \n",
       "\n",
       "  author_fname author_lname author_gender              title  word_count  \\\n",
       "0        Albin     Prepeluh             M               Mina       33063   \n",
       "1        Alojz     Kraigher             M  Kontrolor Škrobar      130090   \n",
       "2        Alojz     Kraigher             M     Mlada ljubezen       75260   \n",
       "3        Alojz     Kraigher             M       Peter Drozeg       20324   \n",
       "4      Alojzij       Kokalj             M      Cerkvene miši       86058   \n",
       "\n",
       "   publ_year  publ_year_clean  \\\n",
       "0     1910.0           1910.0   \n",
       "1     1914.0           1914.0   \n",
       "2     1917.0           1917.0   \n",
       "3     1916.0           1916.0   \n",
       "4     1913.0           1913.0   \n",
       "\n",
       "                                            doc_link         source_corpus  \\\n",
       "0  https://github.com/COST-ELTeC/ELTeC-slv/blob/v...                  KDSP   \n",
       "1  https://www.dlib.si/details/URN:NBN:SI:DOC-KCB...                  KDSP   \n",
       "2  https://github.com/COST-ELTeC/ELTeC-slv/blob/v...                  KDSP   \n",
       "3                  https://lit.ijs.si/kraigher.html   Wikivir - leposlovje   \n",
       "4  https://sl.wikisource.org/wiki/Cerkvene_mi%C5%A1i                  KDSP   \n",
       "\n",
       "  comment  \n",
       "0     NaN  \n",
       "1     NaN  \n",
       "2     NaN  \n",
       "3     NaN  \n",
       "4     NaN  "
      ]
     },
     "execution_count": 4,
     "metadata": {},
     "output_type": "execute_result"
    }
   ],
   "source": [
    "df = pd.read_csv('../corpus_metadata.csv')\n",
    "df.head()"
   ]
  },
  {
   "cell_type": "markdown",
   "id": "b5fcc872-7dcb-4b74-8218-7e3c820efaa9",
   "metadata": {},
   "source": [
    "## One-time FastText training to see results"
   ]
  },
  {
   "cell_type": "code",
   "execution_count": 6,
   "id": "2985c038-4611-42db-91e8-b344a7d08bf1",
   "metadata": {},
   "outputs": [
    {
     "data": {
      "text/plain": [
       "(913948, 862173)"
      ]
     },
     "execution_count": 6,
     "metadata": {},
     "output_type": "execute_result"
    }
   ],
   "source": [
    "# Convert generator to list for training (if your corpus is not huge)\n",
    "sentences_orig = list(read_corpus(MAIN_ORIGINAL))\n",
    "sentences_lemma = list(read_corpus(MAIN_LEMMA))\n",
    "\n",
    "# different num of sentences, cause Wikivir wasn't lemmatized\n",
    "len(sentences_orig), len(sentences_lemma)"
   ]
  },
  {
   "cell_type": "code",
   "execution_count": 7,
   "id": "a4bf2ba1",
   "metadata": {},
   "outputs": [],
   "source": [
    "# Create a list of seed words based on the root lemma \"sram\" to be used\n",
    "# in training\n",
    "flat_words = [word for sent in sentences_lemma for word in sent]\n",
    "word_counts = Counter(flat_words)\n",
    "matches = [w for w in word_counts if 'sram' in w]  # crude stem match\n",
    "\n",
    "# manually inspected the list below and generated the excluded words\n",
    "non_shame_words = ['nesramnost', 'narnesramen', 'nasramen', 'nesramen',\n",
    "                   'nesramno']\n",
    "\n",
    "seed_words = []\n",
    "for m in sorted(matches): \n",
    "    if m not in non_shame_words:\n",
    "        # uncomment to print\n",
    "        #print(m)\n",
    "        seed_words.append(m)"
   ]
  },
  {
   "cell_type": "code",
   "execution_count": 8,
   "id": "96276d5d",
   "metadata": {},
   "outputs": [
    {
     "name": "stdout",
     "output_type": "stream",
     "text": [
      "sram 1279\n",
      "sramota 1236\n",
      "sramovati 695\n",
      "sramoten 246\n",
      "sramezljivo 228\n",
      "osramocen 162\n",
      "sramezljivost 139\n",
      "sramezljiv 120\n",
      "sramotno 102\n",
      "osramotiti 99\n",
      "nesramnez 76\n",
      "sramotiti 69\n",
      "zasramovati 57\n",
      "sramozljivost 32\n",
      "nesramnica 28\n",
      "zasramovanje 26\n",
      "osramocenje 24\n",
      "sramotilen 19\n",
      "sramotenje 12\n",
      "sramozljiv 12\n",
      "sramovanje 8\n",
      "sramu 8\n",
      "zasramovan 8\n",
      "sramujoc 7\n",
      "brezsramno 5\n",
      "osramoten 5\n",
      "sramocenje 5\n",
      "zasramovalec 5\n",
      "brezsramen 4\n",
      "sramotilec 4\n",
      "sramozljivo 4\n",
      "nesramozljiv 3\n",
      "osramocenost 3\n",
      "presramoten 3\n",
      "sramocen 3\n",
      "zasramljivo 3\n",
      "brezsramnik 2\n",
      "nesramnezev 2\n",
      "nesramnik 2\n",
      "osramljen 2\n",
      "osramotjen 2\n",
      "presramotno 2\n",
      "sramez 2\n",
      "sramot 2\n",
      "sramote 2\n",
      "sramotec 2\n",
      "sramovaje 2\n",
      "zasramba 2\n",
      "zasramovalen 2\n",
      "krvosramen 1\n",
      "krvosramstvo 1\n",
      "nesramezljivo 1\n",
      "nesramezljivost 1\n",
      "nesramnej 1\n",
      "nesramnes 1\n",
      "nesramnosla 1\n",
      "nesramoten 1\n",
      "osramocenov 1\n",
      "osramocevati 1\n",
      "osramotenje 1\n",
      "osramoteti 1\n",
      "osramotivsiti 1\n",
      "osramovati 1\n",
      "presramezljiv 1\n",
      "presramozljiv 1\n",
      "sramec 1\n",
      "sramezjiv 1\n",
      "sramiti 1\n",
      "sramoti 1\n",
      "sramotilka 1\n",
      "sramotivec 1\n",
      "sramotljiv 1\n",
      "sramuje 1\n",
      "sramvati 1\n",
      "zasramljiv 1\n",
      "zasramnji 1\n",
      "zasramujoc 1\n",
      "zasramvan 1\n"
     ]
    }
   ],
   "source": [
    "# check how often seed words appear in lemma\n",
    "flat_words = [word for sent in sentences_lemma for word in sent]\n",
    "word_counts = Counter(flat_words)\n",
    "\n",
    "# Create a list of tuples: (word, count)\n",
    "seed_counts = [(w, word_counts.get(w, 0)) for w in seed_words]\n",
    "\n",
    "# Sort by count (descending)\n",
    "seed_counts_sorted = sorted(seed_counts, key=lambda x: x[1], reverse=True)\n",
    "\n",
    "for w, count in seed_counts_sorted:\n",
    "    print(w, count)"
   ]
  },
  {
   "cell_type": "code",
   "execution_count": 9,
   "id": "c484db48",
   "metadata": {},
   "outputs": [
    {
     "data": {
      "text/plain": [
       "['sram',\n",
       " 'sramota',\n",
       " 'sramovati',\n",
       " 'sramoten',\n",
       " 'sramezljivo',\n",
       " 'osramocen',\n",
       " 'sramezljivost',\n",
       " 'sramezljiv',\n",
       " 'sramotno',\n",
       " 'osramotiti',\n",
       " 'nesramnez',\n",
       " 'sramotiti',\n",
       " 'zasramovati']"
      ]
     },
     "execution_count": 9,
     "metadata": {},
     "output_type": "execute_result"
    }
   ],
   "source": [
    "# Filter counts to only seed words with more than 50 appearances\n",
    "common_seed_words = [w for w, c in seed_counts_sorted if c >= 50]\n",
    "\n",
    "common_seed_words"
   ]
  },
  {
   "cell_type": "code",
   "execution_count": 10,
   "id": "c0f1da60",
   "metadata": {},
   "outputs": [
    {
     "data": {
      "text/plain": [
       "['sram',\n",
       " 'sramota',\n",
       " 'sramovati',\n",
       " 'sramoten',\n",
       " 'sramezljivo',\n",
       " 'sramezljivost',\n",
       " 'sramezljiv',\n",
       " 'sramotno',\n",
       " 'sramotiti']"
      ]
     },
     "execution_count": 10,
     "metadata": {},
     "output_type": "execute_result"
    }
   ],
   "source": [
    "# use help funct for seed words, made after teh analysis above\n",
    "sw_loc = '../output/seed_words.txt'\n",
    "seed_words = generate_seed_words_from_stem(\n",
    "    stem=\"sram\", corpus_path=\"../data/lemma_txt_corpus/sentence\",\n",
    "    n=50, out_path=sw_loc)\n",
    "\n",
    "seed_words = [x for x, _ in seed_words]\n",
    "seed_words"
   ]
  },
  {
   "cell_type": "code",
   "execution_count": null,
   "id": "20a8ad3d-54b2-45d3-85d0-ca8a5cdd689f",
   "metadata": {},
   "outputs": [],
   "source": [
    "# train FastText embeddings\n",
    "model = FastText(\n",
    "    sentences=sentences_lemma,\n",
    "    vector_size=300,   # embedding size\n",
    "    window=5,\n",
    "    min_count=1,\n",
    "    workers=NUM_CPUS,\n",
    "    sg=1,              # 1 = skip-gram; better for semantic similarity\n",
    "    epochs=5\n",
    ")"
   ]
  },
  {
   "cell_type": "code",
   "execution_count": 11,
   "id": "e7b9072b-68cc-40fd-9615-fb3c1048b9b5",
   "metadata": {},
   "outputs": [
    {
     "data": {
      "text/html": [
       "<div>\n",
       "<style scoped>\n",
       "    .dataframe tbody tr th:only-of-type {\n",
       "        vertical-align: middle;\n",
       "    }\n",
       "\n",
       "    .dataframe tbody tr th {\n",
       "        vertical-align: top;\n",
       "    }\n",
       "\n",
       "    .dataframe thead th {\n",
       "        text-align: right;\n",
       "    }\n",
       "</style>\n",
       "<table border=\"1\" class=\"dataframe\">\n",
       "  <thead>\n",
       "    <tr style=\"text-align: right;\">\n",
       "      <th></th>\n",
       "      <th>seed</th>\n",
       "      <th>similar</th>\n",
       "      <th>similarity</th>\n",
       "    </tr>\n",
       "  </thead>\n",
       "  <tbody>\n",
       "    <tr>\n",
       "      <th>0</th>\n",
       "      <td>sram</td>\n",
       "      <td>sramu</td>\n",
       "      <td>0.901838</td>\n",
       "    </tr>\n",
       "    <tr>\n",
       "      <th>1</th>\n",
       "      <td>sram</td>\n",
       "      <td>sramuje</td>\n",
       "      <td>0.840859</td>\n",
       "    </tr>\n",
       "    <tr>\n",
       "      <th>2</th>\n",
       "      <td>sram</td>\n",
       "      <td>sramec</td>\n",
       "      <td>0.795024</td>\n",
       "    </tr>\n",
       "    <tr>\n",
       "      <th>3</th>\n",
       "      <td>sram</td>\n",
       "      <td>sramovaje</td>\n",
       "      <td>0.770062</td>\n",
       "    </tr>\n",
       "    <tr>\n",
       "      <th>4</th>\n",
       "      <td>sram</td>\n",
       "      <td>sramez</td>\n",
       "      <td>0.761216</td>\n",
       "    </tr>\n",
       "    <tr>\n",
       "      <th>...</th>\n",
       "      <td>...</td>\n",
       "      <td>...</td>\n",
       "      <td>...</td>\n",
       "    </tr>\n",
       "    <tr>\n",
       "      <th>895</th>\n",
       "      <td>sramotiti</td>\n",
       "      <td>smotiti</td>\n",
       "      <td>0.689019</td>\n",
       "    </tr>\n",
       "    <tr>\n",
       "      <th>896</th>\n",
       "      <td>sramotiti</td>\n",
       "      <td>krvjiti</td>\n",
       "      <td>0.688621</td>\n",
       "    </tr>\n",
       "    <tr>\n",
       "      <th>897</th>\n",
       "      <td>sramotiti</td>\n",
       "      <td>umesiti</td>\n",
       "      <td>0.688370</td>\n",
       "    </tr>\n",
       "    <tr>\n",
       "      <th>898</th>\n",
       "      <td>sramotiti</td>\n",
       "      <td>preklicevati</td>\n",
       "      <td>0.688009</td>\n",
       "    </tr>\n",
       "    <tr>\n",
       "      <th>899</th>\n",
       "      <td>sramotiti</td>\n",
       "      <td>srati</td>\n",
       "      <td>0.687963</td>\n",
       "    </tr>\n",
       "  </tbody>\n",
       "</table>\n",
       "<p>900 rows × 3 columns</p>\n",
       "</div>"
      ],
      "text/plain": [
       "          seed       similar  similarity\n",
       "0         sram         sramu    0.901838\n",
       "1         sram       sramuje    0.840859\n",
       "2         sram        sramec    0.795024\n",
       "3         sram     sramovaje    0.770062\n",
       "4         sram        sramez    0.761216\n",
       "..         ...           ...         ...\n",
       "895  sramotiti       smotiti    0.689019\n",
       "896  sramotiti       krvjiti    0.688621\n",
       "897  sramotiti       umesiti    0.688370\n",
       "898  sramotiti  preklicevati    0.688009\n",
       "899  sramotiti         srati    0.687963\n",
       "\n",
       "[900 rows x 3 columns]"
      ]
     },
     "execution_count": 11,
     "metadata": {},
     "output_type": "execute_result"
    }
   ],
   "source": [
    "# find similar words\n",
    "similarity_data = get_similar_words_fasttext(model, seed_words, topn=100)\n",
    "\n",
    "df_sim_words = pd.DataFrame(similarity_data)\n",
    "#pd.set_option('display.max_rows', None)\n",
    "pd.reset_option('^display.', silent=True)\n",
    "\n",
    "df_sim_words"
   ]
  },
  {
   "cell_type": "code",
   "execution_count": null,
   "id": "93bfcdb2-6bc2-44cf-805b-52260b47e4fc",
   "metadata": {},
   "outputs": [],
   "source": [
    "# save similar words\n",
    "os.makedirs(\"../output\", exist_ok=True)\n",
    "df_sim_words.to_csv(\"../output/shame_similar_words.csv\", index=False)\n",
    "\n",
    "# save model\n",
    "os.makedirs(\"../models\", exist_ok=True)\n",
    "model.save(\"../models/fasttext_lemma_5ep.model\")"
   ]
  },
  {
   "cell_type": "markdown",
   "id": "a7ac5b3f",
   "metadata": {},
   "source": [
    "## Continuously train for n epochs > predict at each epoch batch"
   ]
  },
  {
   "cell_type": "code",
   "execution_count": 19,
   "id": "2788d39b",
   "metadata": {},
   "outputs": [
    {
     "name": "stdout",
     "output_type": "stream",
     "text": [
      "🚀 Model not found at ../models/ft_300ep_lemma_txt_sentence_remove_stopwords, training new one...\n",
      "🔧 Initializing FastText model…\n",
      "🚀 Starting incremental training:\n"
     ]
    },
    {
     "name": "stderr",
     "output_type": "stream",
     "text": [
      "Epochs: 100%|██████████| 60/60 [56:30<00:00, 56.51s/it]\n"
     ]
    },
    {
     "name": "stdout",
     "output_type": "stream",
     "text": [
      "✅ Neighbors saved to ../output/neighbors_by_epoch_ft_300ep_lemma_txt_sentence_remove_stopwords.json\n",
      "✅ Model saved to ../models/ft_300ep_lemma_txt_sentence_remove_stopwords\n",
      "✅ Jaccard similarity CSV saved to: ../output/ep_jaccard_sim_lemma_txt_sentence_remove_stopwords.csv\n",
      "🚀 Model not found at ../models/ft_300ep_original_txt_sentence_remove_stopwords, training new one...\n",
      "🔧 Initializing FastText model…\n",
      "🚀 Starting incremental training:\n"
     ]
    },
    {
     "name": "stderr",
     "output_type": "stream",
     "text": [
      "Epochs: 100%|██████████| 60/60 [1:24:00<00:00, 84.02s/it]\n"
     ]
    },
    {
     "name": "stdout",
     "output_type": "stream",
     "text": [
      "✅ Neighbors saved to ../output/neighbors_by_epoch_ft_300ep_original_txt_sentence_remove_stopwords.json\n",
      "✅ Model saved to ../models/ft_300ep_original_txt_sentence_remove_stopwords\n",
      "✅ Jaccard similarity CSV saved to: ../output/ep_jaccard_sim_original_txt_sentence_remove_stopwords.csv\n",
      "🚀 Model not found at ../models/ft_300ep_lemma_txt_sentence_keep_stopwords, training new one...\n",
      "🔧 Initializing FastText model…\n",
      "🚀 Starting incremental training:\n"
     ]
    },
    {
     "name": "stderr",
     "output_type": "stream",
     "text": [
      "Epochs: 100%|██████████| 60/60 [1:15:42<00:00, 75.71s/it]\n"
     ]
    },
    {
     "name": "stdout",
     "output_type": "stream",
     "text": [
      "✅ Neighbors saved to ../output/neighbors_by_epoch_ft_300ep_lemma_txt_sentence_keep_stopwords.json\n",
      "✅ Model saved to ../models/ft_300ep_lemma_txt_sentence_keep_stopwords\n",
      "✅ Jaccard similarity CSV saved to: ../output/ep_jaccard_sim_lemma_txt_sentence_keep_stopwords.csv\n",
      "🚀 Model not found at ../models/ft_300ep_original_txt_sentence_keep_stopwords, training new one...\n",
      "🔧 Initializing FastText model…\n",
      "🚀 Starting incremental training:\n"
     ]
    },
    {
     "name": "stderr",
     "output_type": "stream",
     "text": [
      "Epochs: 100%|██████████| 60/60 [1:52:04<00:00, 112.08s/it]\n"
     ]
    },
    {
     "name": "stdout",
     "output_type": "stream",
     "text": [
      "✅ Neighbors saved to ../output/neighbors_by_epoch_ft_300ep_original_txt_sentence_keep_stopwords.json\n",
      "✅ Model saved to ../models/ft_300ep_original_txt_sentence_keep_stopwords\n",
      "✅ Jaccard similarity CSV saved to: ../output/ep_jaccard_sim_original_txt_sentence_keep_stopwords.csv\n",
      "🚀 Model not found at ../models/ft_300ep_lemma_txt_paragraph_remove_stopwords, training new one...\n",
      "🔧 Initializing FastText model…\n",
      "🚀 Starting incremental training:\n"
     ]
    },
    {
     "name": "stderr",
     "output_type": "stream",
     "text": [
      "Epochs: 100%|██████████| 60/60 [1:14:26<00:00, 74.45s/it]\n"
     ]
    },
    {
     "name": "stdout",
     "output_type": "stream",
     "text": [
      "✅ Neighbors saved to ../output/neighbors_by_epoch_ft_300ep_lemma_txt_paragraph_remove_stopwords.json\n",
      "✅ Model saved to ../models/ft_300ep_lemma_txt_paragraph_remove_stopwords\n",
      "✅ Jaccard similarity CSV saved to: ../output/ep_jaccard_sim_lemma_txt_paragraph_remove_stopwords.csv\n",
      "🚀 Model not found at ../models/ft_300ep_original_txt_paragraph_remove_stopwords, training new one...\n",
      "🔧 Initializing FastText model…\n",
      "🚀 Starting incremental training:\n"
     ]
    },
    {
     "name": "stderr",
     "output_type": "stream",
     "text": [
      "Epochs: 100%|██████████| 60/60 [1:44:51<00:00, 104.86s/it]\n"
     ]
    },
    {
     "name": "stdout",
     "output_type": "stream",
     "text": [
      "✅ Neighbors saved to ../output/neighbors_by_epoch_ft_300ep_original_txt_paragraph_remove_stopwords.json\n",
      "✅ Model saved to ../models/ft_300ep_original_txt_paragraph_remove_stopwords\n",
      "✅ Jaccard similarity CSV saved to: ../output/ep_jaccard_sim_original_txt_paragraph_remove_stopwords.csv\n",
      "🚀 Model not found at ../models/ft_300ep_lemma_txt_paragraph_keep_stopwords, training new one...\n",
      "🔧 Initializing FastText model…\n",
      "🚀 Starting incremental training:\n"
     ]
    },
    {
     "name": "stderr",
     "output_type": "stream",
     "text": [
      "Epochs: 100%|██████████| 60/60 [1:36:23<00:00, 96.40s/it]\n"
     ]
    },
    {
     "name": "stdout",
     "output_type": "stream",
     "text": [
      "✅ Neighbors saved to ../output/neighbors_by_epoch_ft_300ep_lemma_txt_paragraph_keep_stopwords.json\n",
      "✅ Model saved to ../models/ft_300ep_lemma_txt_paragraph_keep_stopwords\n",
      "✅ Jaccard similarity CSV saved to: ../output/ep_jaccard_sim_lemma_txt_paragraph_keep_stopwords.csv\n",
      "🚀 Model not found at ../models/ft_300ep_original_txt_paragraph_keep_stopwords, training new one...\n",
      "🔧 Initializing FastText model…\n",
      "🚀 Starting incremental training:\n"
     ]
    },
    {
     "name": "stderr",
     "output_type": "stream",
     "text": [
      "Epochs: 100%|██████████| 60/60 [2:18:39<00:00, 138.65s/it]  \n"
     ]
    },
    {
     "name": "stdout",
     "output_type": "stream",
     "text": [
      "✅ Neighbors saved to ../output/neighbors_by_epoch_ft_300ep_original_txt_paragraph_keep_stopwords.json\n",
      "✅ Model saved to ../models/ft_300ep_original_txt_paragraph_keep_stopwords\n",
      "✅ Jaccard similarity CSV saved to: ../output/ep_jaccard_sim_original_txt_paragraph_keep_stopwords.csv\n"
     ]
    },
    {
     "data": {
      "image/png": "[encoded data removed]",
      "text/plain": [
       "<Figure size 640x480 with 1 Axes>"
      ]
     },
     "metadata": {},
     "output_type": "display_data"
    }
   ],
   "source": [
    "# ─── Configuration ──────────────────────────────────────────────────\n",
    "stopwords = fetch_sl_stopwords('../data/stopwords_sl.txt')\n",
    "st_treatment = {'remove_stopwords': stopwords, 'keep_stopwords': None}\n",
    "step_epochs = 5\n",
    "max_epochs = 300\n",
    "topn = 100\n",
    "NUM_CPUS = multiprocessing.cpu_count()\n",
    "\n",
    "# ─── Prepare Corpus ─────────────────────────────────────────────────\n",
    "\n",
    "#sentences_orig = list(read_corpus(MAIN_ORIGINAL, stopwords))\n",
    "#sentences_lemma = list(read_corpus(MAIN_LEMMA, stopwords))\n",
    "\n",
    "# ─── Train FastText model ───────────────────────────────────────────\n",
    "\n",
    "model_name = \"ft_300ep_\"\n",
    "model_dir = \"../models\"\n",
    "model_path = os.path.join(model_dir, model_name)\n",
    "\n",
    "# compute all possibilities:\n",
    "for granularity in ['sentence', 'paragraph']:\n",
    "    for st_choice in st_treatment.keys():\n",
    "        for content_type in ['lemma_txt', 'original_txt']:\n",
    "            model_name = f\"ft_300ep_{content_type}_{granularity}_{st_choice}\"\n",
    "            model_dir = \"../models\"\n",
    "            model_path = os.path.join(model_dir, model_name)\n",
    "            _stopwords = st_treatment[st_choice]\n",
    "            input_dir = f'../data/{content_type}_corpus/{granularity}'\n",
    "            output_json_dir = '../output'\n",
    "            output_json_fname = f\"neighbors_by_epoch_ft_300ep_{content_type}_{granularity}_{st_choice}.json\"\n",
    "            output_json_path = os.path.join(output_json_dir, output_json_fname)\n",
    "\n",
    "\n",
    "            if os.path.exists(model_path):\n",
    "                print(f\"✅ Loading existing model from: {model_path}\")\n",
    "                ft_model = FastText.load(model_path)\n",
    "            else:\n",
    "                print(f\"🚀 Model not found at {model_path}, training new one...\")\n",
    "\n",
    "                sentences = list(read_corpus(input_dir, _stopwords))\n",
    "                \n",
    "                ft_model = fasttext_incr_train_and_predict(\n",
    "                    sentences=sentences,\n",
    "                    seed_words=seed_words,\n",
    "                    output_json_fname=output_json_fname,\n",
    "                    output_json_dir=output_json_dir,\n",
    "                    output_model_fname=model_name,\n",
    "                    output_model_dir=model_dir,\n",
    "                    workers=NUM_CPUS,\n",
    "                    max_epochs=max_epochs,\n",
    "                    step_epochs=step_epochs,\n",
    "                    topn=topn\n",
    "                    )\n",
    "            \n",
    "            # compute stability in mean Jaccardian similarity between consecutive epochs\n",
    "            stability_df = compute_epochwise_jaccard_similarity(\n",
    "                neighbor_json_path=output_json_path,\n",
    "                seed_words=seed_words,\n",
    "                output_csv_path=f\"../output/ep_jaccard_sim_{content_type}_{granularity}_{st_choice}.csv\"\n",
    "            )\n",
    "\n",
    "            # save plot for visual inspection\n",
    "            plt.plot(stability_df[\"curr_epoch\"], \n",
    "                     stability_df[\"mean_jaccard\"], \n",
    "                     marker='o')\n",
    "            plt.suptitle(\"Mean Jaccard Between Adjacent FastText Epochs\")\n",
    "            plt.title(f\"Content: {content_type}, Granularity: {granularity}, Stopwords: {st_choice.split('_')[0]}\")\n",
    "            plt.xlabel(\"Epoch (current)\")\n",
    "            plt.ylabel(\"Mean Jaccard vs previous\")\n",
    "            plt.grid(True)\n",
    "            plt.ylim(0, 1)\n",
    "            plt.savefig(f\"../output/jaccard_curve_ft_{content_type}_{granularity}_{st_choice}.png\")\n",
    "\n"
   ]
  },
  {
   "cell_type": "code",
   "execution_count": 16,
   "id": "9e94423d",
   "metadata": {},
   "outputs": [
    {
     "data": {
      "text/html": [
       "<div>\n",
       "<style scoped>\n",
       "    .dataframe tbody tr th:only-of-type {\n",
       "        vertical-align: middle;\n",
       "    }\n",
       "\n",
       "    .dataframe tbody tr th {\n",
       "        vertical-align: top;\n",
       "    }\n",
       "\n",
       "    .dataframe thead th {\n",
       "        text-align: right;\n",
       "    }\n",
       "</style>\n",
       "<table border=\"1\" class=\"dataframe\">\n",
       "  <thead>\n",
       "    <tr style=\"text-align: right;\">\n",
       "      <th></th>\n",
       "    </tr>\n",
       "  </thead>\n",
       "  <tbody>\n",
       "  </tbody>\n",
       "</table>\n",
       "</div>"
      ],
      "text/plain": [
       "Empty DataFrame\n",
       "Columns: []\n",
       "Index: []"
      ]
     },
     "execution_count": 16,
     "metadata": {},
     "output_type": "execute_result"
    }
   ],
   "source": [
    "stability_df.head()"
   ]
  },
  {
   "cell_type": "code",
   "execution_count": null,
   "id": "bc78960c",
   "metadata": {},
   "outputs": [],
   "source": []
  }
 ],
 "metadata": {
  "kernelspec": {
   "display_name": "3.11.9",
   "language": "python",
   "name": "python3"
  },
  "language_info": {
   "codemirror_mode": {
    "name": "ipython",
    "version": 3
   },
   "file_extension": ".py",
   "mimetype": "text/x-python",
   "name": "python",
   "nbconvert_exporter": "python",
   "pygments_lexer": "ipython3",
   "version": "3.11.9"
  }
 },
 "nbformat": 4,
 "nbformat_minor": 5
}
